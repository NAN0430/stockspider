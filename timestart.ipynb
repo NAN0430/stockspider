{
 "cells": [
  {
   "cell_type": "code",
   "execution_count": 21,
   "id": "ae5b6fcc",
   "metadata": {},
   "outputs": [],
   "source": [
    "import datetime\n",
    "import time\n",
    "import os"
   ]
  },
  {
   "cell_type": "code",
   "execution_count": 34,
   "id": "77bacc36",
   "metadata": {},
   "outputs": [],
   "source": [
    "def main(h,m):\n",
    "    while(True):\n",
    "        now = datetime.datetime.now()\n",
    "        print(now.hour,now.minute)\n",
    "        if now.hour == h and now.minute == m:\n",
    "            break\n",
    "        time.sleep(60)\n",
    "    os.popen('python asharestock.py')\n",
    "    os.popen('python industryK.py')\n",
    "    time.sleep(60)\n",
    "    os.popen('python ashareSave.py')\n",
    "    os.popen(\"python industrySave.py\")"
   ]
  },
  {
   "cell_type": "code",
   "execution_count": 36,
   "id": "c55fecec",
   "metadata": {},
   "outputs": [
    {
     "name": "stdout",
     "output_type": "stream",
     "text": [
      "17 12\n"
     ]
    },
    {
     "name": "stderr",
     "output_type": "stream",
     "text": [
      "Exception ignored in: <_io.TextIOWrapper name='<stdout>' mode='w' encoding='utf-8'>\n",
      "BrokenPipeError: [Errno 32] Broken pipe\n"
     ]
    }
   ],
   "source": [
    "main(17,12)"
   ]
  },
  {
   "cell_type": "code",
   "execution_count": null,
   "id": "38b24818",
   "metadata": {},
   "outputs": [],
   "source": []
  },
  {
   "cell_type": "code",
   "execution_count": null,
   "id": "5483b6ad",
   "metadata": {},
   "outputs": [],
   "source": []
  }
 ],
 "metadata": {
  "kernelspec": {
   "display_name": "Python 3 (ipykernel)",
   "language": "python",
   "name": "python3"
  },
  "language_info": {
   "codemirror_mode": {
    "name": "ipython",
    "version": 3
   },
   "file_extension": ".py",
   "mimetype": "text/x-python",
   "name": "python",
   "nbconvert_exporter": "python",
   "pygments_lexer": "ipython3",
   "version": "3.9.7"
  }
 },
 "nbformat": 4,
 "nbformat_minor": 5
}
